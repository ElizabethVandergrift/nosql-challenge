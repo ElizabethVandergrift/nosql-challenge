





from pymongo import MongoClient
import pandas as pd
from pprint import pprint


# Create an instance of MongoClient
mongo = MongoClient(port=27017)


# assign the uk_food database to a variable name
db = mongo['uk_food']


# review the collections in our database
print(db.list_collection_names())


# assign the collection to a variable
establishments = db['establishments']








# Find the establishments with a hygiene score of 20
# Define the query to find establishments with a hygiene score of 20
query = {'scores.Hygiene': 20}

# Use count_documents to display the number of documents in the result
num_documents = db.establishments.count_documents(query)
print("Number of documents in result:", num_documents)

# Display the first document in the results using pprint
first_document = db.establishments.find_one(query)
pprint(first_document)


# Convert the result to a Pandas DataFrame
documents = list(establishments.find(query))
df = pd.DataFrame(documents)

# Display the number of rows in the DataFrame
print("Number of rows in DataFrame:", df.shape[0])

# Display the first 10 rows of the DataFrame
print(df.head(10))






query={'LocalAuthorityName':{'$regex': 'London', '$options': 'i'}}
fields = {'LocalAuthorityCode': 1, 'LocalAuthorityName': 1}

# Capture the results to a variable
results = establishments.find(query, fields)

# Pretty print the results
for result in results:
    pprint(result)


# Find the establishments with London as the Local Authority and has a RatingValue greater than or equal to 4.

query = {
    'LocalAuthorityName': {'$regex': 'London', '$options': 'i'},
    'RatingValue': {'$gte': 4}
}

# Use count_documents to display the number of documents in the result
num_documents = establishments.count_documents(query)
print("Number of documents in result:", num_documents)

# Display the first document in the results using pprint
first_document = establishments.find_one(query)
pprint(first_document)


# Convert the result to a Pandas DataFrame
# Retrieve the documents
documents = list(establishments.find(query))

# Convert the documents into a pandas DataFrame
df = pd.DataFrame(documents)

# Display the number of rows in the DataFrame and the first few rows of the DataFrame
print("Number of rows in DataFrame:", df.shape[0])

# Display the first 10 rows of the DataFrame
print(df.head(10))





# Search within 0.01 degree on either side of the latitude and longitude.
# Rating value must equal 5
# Sort by hygiene score

degree_search = 0.01
latitude =51.49014200
longitude =0.08384000

lat_min = latitude - degree_search
lat_max = latitude + degree_search
lon_min = longitude - degree_search
lon_max = longitude + degree_search

# Create the query
query = {
    'geocode.latitude': {'$gte': lat_min, '$lte': lat_max},
    'geocode.longitude': {'$gte': lon_min, '$lte': lon_max},
    'scores.Hygiene': 5
}

# Perform the query, sort, and limit
results = establishments.find(query).sort('scores.Hygiene', 1).limit(5)

# Print the results
for result in results:
    pprint(result)




# Convert result to Pandas DataFrame
# Convert the result to a Pandas DataFrame
# Retrieve the documents
documents = list(establishments.find(query))

# Convert the documents into a pandas DataFrame
df = pd.DataFrame(documents)

# Display the number of rows in the DataFrame and the first few rows of the DataFrame
print("Number of rows in DataFrame:", df.shape[0])

# Display the first 10 rows of the DataFrame
df.head(10)






# 1. Matches establishments with a hygiene score of 0
match_query = {'$match': {'scores.Hygiene':0 }}

# 2. Groups the matches by Local Authority
group_query = {'$group': {'_id': "$LocalAuthorityName", 'count':{'$sum':1}}}

# 3. Sorts the matches from highest to lowest
sort_values = {'$sort': { 'count': -1 }}

# Put the pipeline together
pipeline = [match_query, group_query, sort_values]

results = list(establishments.aggregate(pipeline))

# Print the number of documents in the result
print("Number of documents",len(results))

# Print the first 10 results
pprint(results[0:10])



# Convert the result to a Pandas DataFrame

hygiene_df=pd.DataFrame(results)

# Display the number of rows in the DataFrame

print("Number of rows in DataFrame:", df.shape[0])

# Display the first 10 rows of the DataFrame
hygiene_df.head(10)



